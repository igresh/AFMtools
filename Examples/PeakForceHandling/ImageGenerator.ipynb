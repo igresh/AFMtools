{
 "cells": [
  {
   "cell_type": "code",
   "execution_count": 2,
   "id": "5fbb525a-da0b-45c4-b248-3c85461f6e0c",
   "metadata": {},
   "outputs": [],
   "source": [
    "%load_ext autoreload\n",
    "%autoreload 2"
   ]
  },
  {
   "cell_type": "code",
   "execution_count": 3,
   "id": "2757a0a7-abd6-4c0c-8f0a-c132ac299e96",
   "metadata": {},
   "outputs": [],
   "source": [
    "import matplotlib.pyplot as plt\n",
    "from matplotlib.gridspec import GridSpec\n",
    "\n",
    "import numpy as np\n",
    "import copy as copy\n",
    "from glob import glob\n",
    "import csv\n",
    "import sys\n",
    "import os\n",
    "sys.path.append('C:\\\\Users\\\\Isaac\\\\Documents\\\\GitHub\\\\AFMtools\\\\')\n",
    "import ImageFuncs\n",
    "\n",
    "from PeakForceImageTools import open_peakforce_images, construct_subplots, plot_single_image, plot_images_summary\n",
    "from PeakForceTools import get_bounds\n",
    "\n",
    "dir = 'Output'\n"
   ]
  },
  {
   "cell_type": "markdown",
   "id": "b5593069-e86e-49cd-bfaa-459ffe515080",
   "metadata": {},
   "source": [
    "## Load images from output folder"
   ]
  },
  {
   "cell_type": "code",
   "execution_count": 4,
   "id": "8679c9c9-85ff-452a-b89d-405d94e946e0",
   "metadata": {},
   "outputs": [
    {
     "name": "stdout",
     "output_type": "stream",
     "text": [
      "bilayer.000\n",
      "bilayer.001\n",
      "bilayer.002\n",
      "bilayer_PDMS_c3.000\n"
     ]
    },
    {
     "name": "stderr",
     "output_type": "stream",
     "text": [
      "C:\\Users\\Isaac\\miniconda3\\envs\\AFManalysis\\Lib\\site-packages\\numpy\\lib\\function_base.py:522: RuntimeWarning: overflow encountered in cast\n",
      "  scl = avg_as_array.dtype.type(a.size/avg_as_array.size)\n"
     ]
    },
    {
     "name": "stdout",
     "output_type": "stream",
     "text": [
      "bilayer_PDMS_c3.001\n",
      "bilayer_PDMS_c3.002\n",
      "bilayer_PDMS_c3.003\n",
      "bilayer_PDMS_c3.004\n",
      "bilayer_PDMS_c3.005\n",
      "bilayer_PDMS_c3.006\n",
      "bilayer_PDMS_c3.007\n",
      "bilayer_PDMS_c3.008\n",
      "bilayer_PDMS_c3.009\n",
      "bilayer_PDMS_c3.010\n",
      "bilayer_PDMS_c3.011\n",
      "bilayer_PDMS_c3.012\n",
      "bilayer_PDMS_c3.013\n",
      "c8tes_s7_d3.000\n",
      "c8tes_s7_d3.001\n",
      "c8tes_s7_d3.002\n",
      "c8tes_s7_d3.003\n",
      "c8tes_s7_d3.004\n",
      "c8tes_s7_d3.005\n",
      "c8tes_s7_d3.006\n",
      "c8tes_s7_d3.007\n",
      "c8tes_s7_d3.008\n",
      "c8tes_s7_d3.009\n",
      "S1B1b4.000\n",
      "S1B1b4.001\n",
      "S1B1b4.002\n",
      "S1B1b4.003\n",
      "S1B1b4.004\n",
      "S1B1b4.005\n",
      "S1B1b4.006\n",
      "S1B1b4.007\n",
      "S1B1b4.008\n",
      "S1B1b4.009\n",
      "S6b1.000\n",
      "S6b1.001\n"
     ]
    }
   ],
   "source": [
    "imageDict = {}\n",
    "valueDict = {}\n",
    "\n",
    "for file in glob(dir + '/*'):\n",
    "    imagename = file.split('\\\\')[1]\n",
    "    if os.path.exists(f'{dir}\\\\{imagename}\\\\jump_in.csv'):\n",
    "        print (imagename)\n",
    "        imageDict[imagename], valueDict[imagename] = open_peakforce_images(imagename, dir=dir)\n",
    "    "
   ]
  },
  {
   "cell_type": "code",
   "execution_count": 5,
   "id": "d2f1cc7e-4cdb-4a59-bb51-542a3eab004a",
   "metadata": {},
   "outputs": [],
   "source": [
    "savefig_settings = {'transparent':True, 'dpi':300}"
   ]
  },
  {
   "cell_type": "code",
   "execution_count": 6,
   "id": "e70fcfcd-94e6-4620-b571-ce0145b56a48",
   "metadata": {},
   "outputs": [
    {
     "name": "stdout",
     "output_type": "stream",
     "text": [
      "bilayer.000\n",
      "bilayer.001\n"
     ]
    },
    {
     "name": "stderr",
     "output_type": "stream",
     "text": [
      "C:\\Users\\Isaac\\miniconda3\\envs\\AFManalysis\\Lib\\site-packages\\numpy\\lib\\function_base.py:522: RuntimeWarning: overflow encountered in cast\n",
      "  scl = avg_as_array.dtype.type(a.size/avg_as_array.size)\n"
     ]
    },
    {
     "name": "stdout",
     "output_type": "stream",
     "text": [
      "bilayer.002\n"
     ]
    },
    {
     "name": "stderr",
     "output_type": "stream",
     "text": [
      "C:\\Users\\Isaac\\miniconda3\\envs\\AFManalysis\\Lib\\site-packages\\numpy\\lib\\function_base.py:522: RuntimeWarning: overflow encountered in cast\n",
      "  scl = avg_as_array.dtype.type(a.size/avg_as_array.size)\n"
     ]
    },
    {
     "name": "stdout",
     "output_type": "stream",
     "text": [
      "bilayer_PDMS_c3.000\n"
     ]
    },
    {
     "name": "stderr",
     "output_type": "stream",
     "text": [
      "C:\\Users\\Isaac\\miniconda3\\envs\\AFManalysis\\Lib\\site-packages\\numpy\\lib\\function_base.py:522: RuntimeWarning: overflow encountered in cast\n",
      "  scl = avg_as_array.dtype.type(a.size/avg_as_array.size)\n"
     ]
    },
    {
     "name": "stdout",
     "output_type": "stream",
     "text": [
      "bilayer_PDMS_c3.001\n"
     ]
    },
    {
     "name": "stderr",
     "output_type": "stream",
     "text": [
      "C:\\Users\\Isaac\\miniconda3\\envs\\AFManalysis\\Lib\\site-packages\\numpy\\lib\\function_base.py:522: RuntimeWarning: overflow encountered in cast\n",
      "  scl = avg_as_array.dtype.type(a.size/avg_as_array.size)\n"
     ]
    },
    {
     "name": "stdout",
     "output_type": "stream",
     "text": [
      "bilayer_PDMS_c3.002\n"
     ]
    },
    {
     "name": "stderr",
     "output_type": "stream",
     "text": [
      "C:\\Users\\Isaac\\miniconda3\\envs\\AFManalysis\\Lib\\site-packages\\numpy\\lib\\function_base.py:522: RuntimeWarning: overflow encountered in cast\n",
      "  scl = avg_as_array.dtype.type(a.size/avg_as_array.size)\n"
     ]
    },
    {
     "name": "stdout",
     "output_type": "stream",
     "text": [
      "bilayer_PDMS_c3.003\n"
     ]
    },
    {
     "name": "stderr",
     "output_type": "stream",
     "text": [
      "C:\\Users\\Isaac\\miniconda3\\envs\\AFManalysis\\Lib\\site-packages\\numpy\\lib\\function_base.py:522: RuntimeWarning: overflow encountered in cast\n",
      "  scl = avg_as_array.dtype.type(a.size/avg_as_array.size)\n"
     ]
    },
    {
     "name": "stdout",
     "output_type": "stream",
     "text": [
      "bilayer_PDMS_c3.004\n"
     ]
    },
    {
     "name": "stderr",
     "output_type": "stream",
     "text": [
      "C:\\Users\\Isaac\\miniconda3\\envs\\AFManalysis\\Lib\\site-packages\\numpy\\lib\\function_base.py:522: RuntimeWarning: overflow encountered in cast\n",
      "  scl = avg_as_array.dtype.type(a.size/avg_as_array.size)\n"
     ]
    },
    {
     "name": "stdout",
     "output_type": "stream",
     "text": [
      "bilayer_PDMS_c3.005\n"
     ]
    },
    {
     "name": "stderr",
     "output_type": "stream",
     "text": [
      "C:\\Users\\Isaac\\miniconda3\\envs\\AFManalysis\\Lib\\site-packages\\numpy\\lib\\function_base.py:522: RuntimeWarning: overflow encountered in cast\n",
      "  scl = avg_as_array.dtype.type(a.size/avg_as_array.size)\n"
     ]
    },
    {
     "name": "stdout",
     "output_type": "stream",
     "text": [
      "bilayer_PDMS_c3.006\n"
     ]
    },
    {
     "name": "stderr",
     "output_type": "stream",
     "text": [
      "C:\\Users\\Isaac\\miniconda3\\envs\\AFManalysis\\Lib\\site-packages\\numpy\\lib\\function_base.py:522: RuntimeWarning: overflow encountered in cast\n",
      "  scl = avg_as_array.dtype.type(a.size/avg_as_array.size)\n"
     ]
    },
    {
     "name": "stdout",
     "output_type": "stream",
     "text": [
      "bilayer_PDMS_c3.007\n"
     ]
    },
    {
     "name": "stderr",
     "output_type": "stream",
     "text": [
      "C:\\Users\\Isaac\\miniconda3\\envs\\AFManalysis\\Lib\\site-packages\\numpy\\lib\\function_base.py:522: RuntimeWarning: overflow encountered in cast\n",
      "  scl = avg_as_array.dtype.type(a.size/avg_as_array.size)\n"
     ]
    },
    {
     "name": "stdout",
     "output_type": "stream",
     "text": [
      "bilayer_PDMS_c3.008\n"
     ]
    },
    {
     "name": "stderr",
     "output_type": "stream",
     "text": [
      "C:\\Users\\Isaac\\miniconda3\\envs\\AFManalysis\\Lib\\site-packages\\numpy\\lib\\function_base.py:522: RuntimeWarning: overflow encountered in cast\n",
      "  scl = avg_as_array.dtype.type(a.size/avg_as_array.size)\n"
     ]
    },
    {
     "name": "stdout",
     "output_type": "stream",
     "text": [
      "bilayer_PDMS_c3.009\n"
     ]
    },
    {
     "name": "stderr",
     "output_type": "stream",
     "text": [
      "C:\\Users\\Isaac\\miniconda3\\envs\\AFManalysis\\Lib\\site-packages\\numpy\\lib\\function_base.py:522: RuntimeWarning: overflow encountered in cast\n",
      "  scl = avg_as_array.dtype.type(a.size/avg_as_array.size)\n"
     ]
    },
    {
     "name": "stdout",
     "output_type": "stream",
     "text": [
      "bilayer_PDMS_c3.010\n"
     ]
    },
    {
     "name": "stderr",
     "output_type": "stream",
     "text": [
      "C:\\Users\\Isaac\\miniconda3\\envs\\AFManalysis\\Lib\\site-packages\\numpy\\lib\\function_base.py:522: RuntimeWarning: overflow encountered in cast\n",
      "  scl = avg_as_array.dtype.type(a.size/avg_as_array.size)\n"
     ]
    },
    {
     "name": "stdout",
     "output_type": "stream",
     "text": [
      "bilayer_PDMS_c3.011\n"
     ]
    },
    {
     "name": "stderr",
     "output_type": "stream",
     "text": [
      "C:\\Users\\Isaac\\miniconda3\\envs\\AFManalysis\\Lib\\site-packages\\numpy\\lib\\function_base.py:522: RuntimeWarning: overflow encountered in cast\n",
      "  scl = avg_as_array.dtype.type(a.size/avg_as_array.size)\n"
     ]
    },
    {
     "name": "stdout",
     "output_type": "stream",
     "text": [
      "bilayer_PDMS_c3.012\n"
     ]
    },
    {
     "name": "stderr",
     "output_type": "stream",
     "text": [
      "C:\\Users\\Isaac\\miniconda3\\envs\\AFManalysis\\Lib\\site-packages\\numpy\\lib\\function_base.py:522: RuntimeWarning: overflow encountered in cast\n",
      "  scl = avg_as_array.dtype.type(a.size/avg_as_array.size)\n"
     ]
    },
    {
     "name": "stdout",
     "output_type": "stream",
     "text": [
      "bilayer_PDMS_c3.013\n"
     ]
    },
    {
     "name": "stderr",
     "output_type": "stream",
     "text": [
      "C:\\Users\\Isaac\\miniconda3\\envs\\AFManalysis\\Lib\\site-packages\\numpy\\lib\\function_base.py:522: RuntimeWarning: overflow encountered in cast\n",
      "  scl = avg_as_array.dtype.type(a.size/avg_as_array.size)\n"
     ]
    },
    {
     "name": "stdout",
     "output_type": "stream",
     "text": [
      "c8tes_s7_d3.000\n"
     ]
    },
    {
     "name": "stderr",
     "output_type": "stream",
     "text": [
      "C:\\Users\\Isaac\\miniconda3\\envs\\AFManalysis\\Lib\\site-packages\\numpy\\lib\\function_base.py:522: RuntimeWarning: overflow encountered in cast\n",
      "  scl = avg_as_array.dtype.type(a.size/avg_as_array.size)\n"
     ]
    },
    {
     "name": "stdout",
     "output_type": "stream",
     "text": [
      "c8tes_s7_d3.001\n"
     ]
    },
    {
     "name": "stderr",
     "output_type": "stream",
     "text": [
      "C:\\Users\\Isaac\\miniconda3\\envs\\AFManalysis\\Lib\\site-packages\\numpy\\lib\\function_base.py:522: RuntimeWarning: overflow encountered in cast\n",
      "  scl = avg_as_array.dtype.type(a.size/avg_as_array.size)\n"
     ]
    },
    {
     "name": "stdout",
     "output_type": "stream",
     "text": [
      "c8tes_s7_d3.002\n"
     ]
    },
    {
     "name": "stderr",
     "output_type": "stream",
     "text": [
      "C:\\Users\\Isaac\\miniconda3\\envs\\AFManalysis\\Lib\\site-packages\\numpy\\lib\\function_base.py:522: RuntimeWarning: overflow encountered in cast\n",
      "  scl = avg_as_array.dtype.type(a.size/avg_as_array.size)\n"
     ]
    },
    {
     "name": "stdout",
     "output_type": "stream",
     "text": [
      "c8tes_s7_d3.003\n"
     ]
    },
    {
     "name": "stderr",
     "output_type": "stream",
     "text": [
      "C:\\Users\\Isaac\\miniconda3\\envs\\AFManalysis\\Lib\\site-packages\\numpy\\lib\\function_base.py:522: RuntimeWarning: overflow encountered in cast\n",
      "  scl = avg_as_array.dtype.type(a.size/avg_as_array.size)\n"
     ]
    },
    {
     "name": "stdout",
     "output_type": "stream",
     "text": [
      "c8tes_s7_d3.004\n"
     ]
    },
    {
     "name": "stderr",
     "output_type": "stream",
     "text": [
      "C:\\Users\\Isaac\\miniconda3\\envs\\AFManalysis\\Lib\\site-packages\\numpy\\lib\\function_base.py:522: RuntimeWarning: overflow encountered in cast\n",
      "  scl = avg_as_array.dtype.type(a.size/avg_as_array.size)\n"
     ]
    },
    {
     "name": "stdout",
     "output_type": "stream",
     "text": [
      "c8tes_s7_d3.005\n"
     ]
    },
    {
     "name": "stderr",
     "output_type": "stream",
     "text": [
      "C:\\Users\\Isaac\\miniconda3\\envs\\AFManalysis\\Lib\\site-packages\\numpy\\lib\\function_base.py:522: RuntimeWarning: overflow encountered in cast\n",
      "  scl = avg_as_array.dtype.type(a.size/avg_as_array.size)\n"
     ]
    },
    {
     "name": "stdout",
     "output_type": "stream",
     "text": [
      "c8tes_s7_d3.006\n"
     ]
    },
    {
     "name": "stderr",
     "output_type": "stream",
     "text": [
      "C:\\Users\\Isaac\\miniconda3\\envs\\AFManalysis\\Lib\\site-packages\\numpy\\lib\\function_base.py:522: RuntimeWarning: overflow encountered in cast\n",
      "  scl = avg_as_array.dtype.type(a.size/avg_as_array.size)\n"
     ]
    },
    {
     "name": "stdout",
     "output_type": "stream",
     "text": [
      "c8tes_s7_d3.007\n"
     ]
    },
    {
     "name": "stderr",
     "output_type": "stream",
     "text": [
      "C:\\Users\\Isaac\\miniconda3\\envs\\AFManalysis\\Lib\\site-packages\\numpy\\lib\\function_base.py:522: RuntimeWarning: overflow encountered in cast\n",
      "  scl = avg_as_array.dtype.type(a.size/avg_as_array.size)\n"
     ]
    },
    {
     "name": "stdout",
     "output_type": "stream",
     "text": [
      "c8tes_s7_d3.008\n"
     ]
    },
    {
     "name": "stderr",
     "output_type": "stream",
     "text": [
      "C:\\Users\\Isaac\\miniconda3\\envs\\AFManalysis\\Lib\\site-packages\\numpy\\lib\\function_base.py:522: RuntimeWarning: overflow encountered in cast\n",
      "  scl = avg_as_array.dtype.type(a.size/avg_as_array.size)\n"
     ]
    },
    {
     "name": "stdout",
     "output_type": "stream",
     "text": [
      "c8tes_s7_d3.009\n"
     ]
    },
    {
     "name": "stderr",
     "output_type": "stream",
     "text": [
      "C:\\Users\\Isaac\\miniconda3\\envs\\AFManalysis\\Lib\\site-packages\\numpy\\lib\\function_base.py:522: RuntimeWarning: overflow encountered in cast\n",
      "  scl = avg_as_array.dtype.type(a.size/avg_as_array.size)\n"
     ]
    },
    {
     "name": "stdout",
     "output_type": "stream",
     "text": [
      "S1B1b4.000\n"
     ]
    },
    {
     "name": "stderr",
     "output_type": "stream",
     "text": [
      "C:\\Users\\Isaac\\miniconda3\\envs\\AFManalysis\\Lib\\site-packages\\numpy\\lib\\function_base.py:522: RuntimeWarning: overflow encountered in cast\n",
      "  scl = avg_as_array.dtype.type(a.size/avg_as_array.size)\n"
     ]
    },
    {
     "name": "stdout",
     "output_type": "stream",
     "text": [
      "S1B1b4.001\n"
     ]
    },
    {
     "name": "stderr",
     "output_type": "stream",
     "text": [
      "C:\\Users\\Isaac\\miniconda3\\envs\\AFManalysis\\Lib\\site-packages\\numpy\\lib\\function_base.py:522: RuntimeWarning: overflow encountered in cast\n",
      "  scl = avg_as_array.dtype.type(a.size/avg_as_array.size)\n"
     ]
    },
    {
     "name": "stdout",
     "output_type": "stream",
     "text": [
      "S1B1b4.002\n"
     ]
    },
    {
     "name": "stderr",
     "output_type": "stream",
     "text": [
      "C:\\Users\\Isaac\\miniconda3\\envs\\AFManalysis\\Lib\\site-packages\\numpy\\lib\\function_base.py:522: RuntimeWarning: overflow encountered in cast\n",
      "  scl = avg_as_array.dtype.type(a.size/avg_as_array.size)\n"
     ]
    },
    {
     "name": "stdout",
     "output_type": "stream",
     "text": [
      "S1B1b4.003\n"
     ]
    },
    {
     "name": "stderr",
     "output_type": "stream",
     "text": [
      "C:\\Users\\Isaac\\miniconda3\\envs\\AFManalysis\\Lib\\site-packages\\numpy\\lib\\function_base.py:522: RuntimeWarning: overflow encountered in cast\n",
      "  scl = avg_as_array.dtype.type(a.size/avg_as_array.size)\n"
     ]
    },
    {
     "name": "stdout",
     "output_type": "stream",
     "text": [
      "S1B1b4.004\n"
     ]
    },
    {
     "name": "stderr",
     "output_type": "stream",
     "text": [
      "C:\\Users\\Isaac\\miniconda3\\envs\\AFManalysis\\Lib\\site-packages\\numpy\\lib\\function_base.py:522: RuntimeWarning: overflow encountered in cast\n",
      "  scl = avg_as_array.dtype.type(a.size/avg_as_array.size)\n"
     ]
    },
    {
     "name": "stdout",
     "output_type": "stream",
     "text": [
      "S1B1b4.005\n"
     ]
    },
    {
     "name": "stderr",
     "output_type": "stream",
     "text": [
      "C:\\Users\\Isaac\\miniconda3\\envs\\AFManalysis\\Lib\\site-packages\\numpy\\lib\\function_base.py:522: RuntimeWarning: overflow encountered in cast\n",
      "  scl = avg_as_array.dtype.type(a.size/avg_as_array.size)\n"
     ]
    },
    {
     "name": "stdout",
     "output_type": "stream",
     "text": [
      "S1B1b4.006\n"
     ]
    },
    {
     "name": "stderr",
     "output_type": "stream",
     "text": [
      "C:\\Users\\Isaac\\miniconda3\\envs\\AFManalysis\\Lib\\site-packages\\numpy\\lib\\function_base.py:522: RuntimeWarning: overflow encountered in cast\n",
      "  scl = avg_as_array.dtype.type(a.size/avg_as_array.size)\n"
     ]
    },
    {
     "name": "stdout",
     "output_type": "stream",
     "text": [
      "S1B1b4.007\n"
     ]
    },
    {
     "name": "stderr",
     "output_type": "stream",
     "text": [
      "C:\\Users\\Isaac\\miniconda3\\envs\\AFManalysis\\Lib\\site-packages\\numpy\\lib\\function_base.py:522: RuntimeWarning: overflow encountered in cast\n",
      "  scl = avg_as_array.dtype.type(a.size/avg_as_array.size)\n"
     ]
    },
    {
     "name": "stdout",
     "output_type": "stream",
     "text": [
      "S1B1b4.008\n"
     ]
    },
    {
     "name": "stderr",
     "output_type": "stream",
     "text": [
      "C:\\Users\\Isaac\\miniconda3\\envs\\AFManalysis\\Lib\\site-packages\\numpy\\lib\\function_base.py:522: RuntimeWarning: overflow encountered in cast\n",
      "  scl = avg_as_array.dtype.type(a.size/avg_as_array.size)\n"
     ]
    },
    {
     "name": "stdout",
     "output_type": "stream",
     "text": [
      "S1B1b4.009\n"
     ]
    },
    {
     "name": "stderr",
     "output_type": "stream",
     "text": [
      "C:\\Users\\Isaac\\miniconda3\\envs\\AFManalysis\\Lib\\site-packages\\numpy\\lib\\function_base.py:522: RuntimeWarning: overflow encountered in cast\n",
      "  scl = avg_as_array.dtype.type(a.size/avg_as_array.size)\n"
     ]
    },
    {
     "name": "stdout",
     "output_type": "stream",
     "text": [
      "S6b1.000\n"
     ]
    },
    {
     "name": "stderr",
     "output_type": "stream",
     "text": [
      "C:\\Users\\Isaac\\miniconda3\\envs\\AFManalysis\\Lib\\site-packages\\numpy\\lib\\function_base.py:522: RuntimeWarning: overflow encountered in cast\n",
      "  scl = avg_as_array.dtype.type(a.size/avg_as_array.size)\n"
     ]
    },
    {
     "name": "stdout",
     "output_type": "stream",
     "text": [
      "S6b1.001\n"
     ]
    },
    {
     "name": "stderr",
     "output_type": "stream",
     "text": [
      "C:\\Users\\Isaac\\miniconda3\\envs\\AFManalysis\\Lib\\site-packages\\numpy\\lib\\function_base.py:522: RuntimeWarning: overflow encountered in cast\n",
      "  scl = avg_as_array.dtype.type(a.size/avg_as_array.size)\n"
     ]
    }
   ],
   "source": [
    "# imagename = 'solgel teos.002'\n",
    "# path = f'{dir}/{imagename}'\n",
    "# images, values = imageDict[imagename], valueDict[imagename]\n",
    "\n",
    "for imagename, images in imageDict.items():\n",
    "    print (imagename)\n",
    "    values = valueDict[imagename]\n",
    "    path = f'{dir}/{imagename}'\n",
    "\n",
    "    for key, data in images.items():\n",
    "        fig, ax, cax = construct_subplots()\n",
    "        plot_single_image(ax, cax, data, values, top_right_text=key, top_left_text=imagename)\n",
    "        fig.savefig(f'{path}/{key}.png', **savefig_settings)\n",
    "        plt.close(fig)\n",
    "\n",
    "    fig = plot_images_summary(imagename)\n",
    "    fig.savefig(f'{\"Summary Images\"}/{imagename}.pdf', **savefig_settings)\n",
    "\n",
    "    plt.close(fig)"
   ]
  },
  {
   "cell_type": "markdown",
   "id": "00d98a6b-5b5f-4b95-bcd6-a4a99f703ac4",
   "metadata": {},
   "source": [
    "# STOP HERE\n",
    "## Previously for comparing datasets"
   ]
  },
  {
   "cell_type": "code",
   "execution_count": null,
   "id": "00b8a8b8-0ebe-4e51-99cc-75705cf08a77",
   "metadata": {},
   "outputs": [],
   "source": [
    "im_settings = {'interpolation':'bicubic', 'extent':[0, values[\"scan size\"], 0, values[\"scan size\"]], 'aspect':1}\n",
    "\n",
    "\n",
    "Force_settings = copy.copy(im_settings)\n",
    "Force_settings['vmin'], Force_settings['vmax'] = get_bounds(images['flat Extends Adh'], images['flat Retracts Adh'])\n",
    "Force_settings['cmap'] = 'inferno'\n",
    "\n",
    "wadh_settings = copy.copy(im_settings)\n",
    "wadh_settings['vmin'], wadh_settings['vmax'] =  get_bounds(images['flat wadh in'], images['flat wadh off'])\n",
    "\n",
    "off_settings = copy.copy(im_settings)\n",
    "off_settings['vmin'], off_settings['vmax'] = get_bounds(images['flat jump in'], images['flat pull off'])\n",
    "off_settings['cmap'] = 'viridis'"
   ]
  },
  {
   "cell_type": "code",
   "execution_count": 35,
   "id": "52ce89b1-72da-4a97-8493-907677e94a78",
   "metadata": {},
   "outputs": [
    {
     "name": "stdin",
     "output_type": "stream",
     "text": [
      "Path already exits. Are you sure you want to proceed? y\n"
     ]
    },
    {
     "name": "stdout",
     "output_type": "stream",
     "text": [
      "bilayer.000\n",
      "bilayer.001\n",
      "bilayer.002\n",
      "bilayer_PDMS_c3.000\n",
      "bilayer_PDMS_c3.001\n",
      "bilayer_PDMS_c3.002\n",
      "bilayer_PDMS_c3.003\n",
      "bilayer_PDMS_c3.004\n",
      "bilayer_PDMS_c3.005\n",
      "bilayer_PDMS_c3.006\n",
      "bilayer_PDMS_c3.007\n",
      "bilayer_PDMS_c3.008\n",
      "bilayer_PDMS_c3.009\n",
      "bilayer_PDMS_c3.010\n",
      "bilayer_PDMS_c3.011\n",
      "bilayer_PDMS_c3.012\n",
      "bilayer_PDMS_c3.013\n",
      "c8tes.000\n",
      "c8tes.001\n",
      "c8tes.002\n",
      "c8tes.003\n",
      "c8tes.004\n",
      "c8tes.005\n",
      "c8tes.006\n",
      "c8tes.007\n",
      "c8tes.008\n",
      "c8tes.009\n",
      "c8tes.010\n",
      "c8tes.011\n",
      "c8tes_50C64h.000\n",
      "c8tes_50C64h.001\n",
      "c8tes_50C64h.002\n",
      "c8tes_50C64h.003\n",
      "c8tes_50C64h.004\n",
      "c8tes_50C64h.005\n",
      "c8tes_50C64hp3.006\n",
      "c8tes_50C64hp3.007\n",
      "c8tes_50C64hp3.008\n",
      "c8tes_s7_d3.000\n",
      "c8tes_s7_d3.001\n",
      "c8tes_s7_d3.002\n",
      "c8tes_s7_d3.003\n",
      "c8tes_s7_d3.004\n",
      "c8tes_s7_d3.005\n",
      "c8tes_s7_d3.006\n",
      "c8tes_s7_d3.007\n",
      "c8tes_s7_d3.008\n",
      "c8tes_s7_d3.009\n",
      "mPEOB5d2.000\n",
      "mPEOB5d2.001\n",
      "mPEOB5d2.002\n",
      "mPEOB5d2.003\n",
      "mPEO_b5d2.000\n",
      "mPEO_b5d2.001\n",
      "mPEO_b5d2.002\n",
      "mPEO_b5d2.003\n",
      "mPEO_b5d2.004\n",
      "mPEO_b5d2.005\n",
      "mPEO_b5d2.006\n",
      "mPEO_b5d2.007\n",
      "mPEO_b5d2.008\n",
      "S1B1b4.000\n",
      "S1B1b4.001\n",
      "S1B1b4.002\n",
      "S1B1b4.003\n",
      "S1B1b4.004\n",
      "S1B1b4.005\n",
      "S1B1b4.006\n",
      "S1B1b4.007\n",
      "S1B1b4.008\n",
      "S1B1b4.009\n",
      "s5new.001\n",
      "s5new.002\n",
      "s5new.003\n",
      "s5new.004\n",
      "s5new.006\n",
      "s5new.007\n",
      "s5new.008\n",
      "s5new.009\n",
      "s5new.010\n",
      "s5new.011\n",
      "s5new.012\n",
      "s5new.013\n",
      "s5new.014\n",
      "s5new.015\n",
      "s5new.016\n",
      "s5_b2.007\n",
      "s5_b2.008\n",
      "s5_b2.009\n",
      "s5_b2.010\n",
      "S6b1.000\n",
      "S6b1.001\n",
      "silicon.000\n",
      "silicon.001\n",
      "silicon.002\n",
      "silicon.003\n",
      "silicon.004\n",
      "silicon.005\n",
      "silicon.006\n",
      "silicon.007\n",
      "solgel teos.000\n",
      "solgel teos.001\n",
      "solgel teos.002\n",
      "solgel teos.003\n",
      "solgel teos.004\n",
      "solgel teos.005\n",
      "solgel teos.006\n",
      "solgel teos.007\n",
      "t1_pdms_b3.012\n",
      "t1_pdms_b3.013\n",
      "teos1.001\n",
      "teos1.002\n",
      "teos1.003\n",
      "teos1.004\n"
     ]
    }
   ],
   "source": [
    "image_type = 'flat image'\n",
    "outputfile = 'Comp_allImage_notFlat'\n",
    "if 'Adh' in image_type:\n",
    "    cbar_label = 'Force, nN'\n",
    "if 'wadh' in image_type:\n",
    "    cbar_label = 'Work, nJ'\n",
    "else:\n",
    "    cbar_label = 'Height, nm'\n",
    "bounds = [-1, 1]\n",
    "\n",
    "path = f'Comparison//{outputfile}'\n",
    "\n",
    "# image_names = ['c8tes_50C64h.000',\n",
    "#                'c8tes_50C64h.003',\n",
    "#                'mPEOB5d2.000',\n",
    "#                'mPEOB5d2.003',]\n",
    "\n",
    "image_names = list(imageDict.keys())\n",
    "\n",
    "if not os.path.exists(path):\n",
    "    os.mkdir(path)\n",
    "else:\n",
    "    x = input ('Path already exits. Are you sure you want to proceed?')\n",
    "    if x.lower() != 'y':\n",
    "        image_names = []\n",
    "\n",
    "for image_name in image_names:\n",
    "    print (image_name)\n",
    "    images, values = imageDict[image_name], valueDict[image_name]\n",
    "    data = images[image_type]\n",
    "    fig, ax, cax = construct_subplots()\n",
    "    plot_single_image(ax, cax, data, values, bounds=bounds, rel_bounds=True,\n",
    "                      top_right_text=image_type, top_left_text=image_name,\n",
    "                      cbar_label=cbar_label)\n",
    "    fig.savefig(f'{path}/{image_name}_{image_type}.png', **savefig_settings)\n",
    "    plt.close(fig)\n"
   ]
  },
  {
   "cell_type": "code",
   "execution_count": 33,
   "id": "c4ce1739-90d5-499d-9ad1-bc7cb0323e51",
   "metadata": {},
   "outputs": [
    {
     "data": {
      "text/plain": [
       "dict_keys(['image', 'Extends Adh', 'Retracts Adh', 'wadh in', 'wadh off', 'jump in', 'pull off', 'net rep in', 'net rep off', 'flat image', 'flat Extends Adh', 'flat Retracts Adh', 'flat wadh in', 'flat wadh off', 'flat jump in', 'flat pull off', 'flat net rep in', 'flat net rep off'])"
      ]
     },
     "execution_count": 33,
     "metadata": {},
     "output_type": "execute_result"
    }
   ],
   "source": [
    "image_name = 's5new.002'\n",
    "images, values = imageDict[image_name], valueDict[image_name]\n",
    "images.keys()"
   ]
  },
  {
   "cell_type": "code",
   "execution_count": 15,
   "id": "c49c1260-7eb6-4a44-8cda-2fe0a84768a4",
   "metadata": {},
   "outputs": [],
   "source": [
    "sbsize = np.round(values[\"scan size\"]/3,-2)"
   ]
  },
  {
   "cell_type": "code",
   "execution_count": 26,
   "id": "4b420928-8e49-4b4d-97fc-41a1068a3581",
   "metadata": {},
   "outputs": [
    {
     "data": {
      "text/plain": [
       "1.0"
      ]
     },
     "execution_count": 26,
     "metadata": {},
     "output_type": "execute_result"
    }
   ],
   "source": [
    "np.round(values[\"scan size\"]/3)"
   ]
  },
  {
   "cell_type": "code",
   "execution_count": 19,
   "id": "7cc56b94-13a3-41b5-a9e2-22b3b5a8c713",
   "metadata": {},
   "outputs": [
    {
     "data": {
      "text/plain": [
       "1.0"
      ]
     },
     "execution_count": 19,
     "metadata": {},
     "output_type": "execute_result"
    }
   ],
   "source": [
    "np.round(1.01)"
   ]
  },
  {
   "cell_type": "code",
   "execution_count": null,
   "id": "ef5d0df9-76e7-4b03-92ca-1c9ae8988427",
   "metadata": {},
   "outputs": [],
   "source": []
  }
 ],
 "metadata": {
  "kernelspec": {
   "display_name": "Python 3 (ipykernel)",
   "language": "python",
   "name": "python3"
  },
  "language_info": {
   "codemirror_mode": {
    "name": "ipython",
    "version": 3
   },
   "file_extension": ".py",
   "mimetype": "text/x-python",
   "name": "python",
   "nbconvert_exporter": "python",
   "pygments_lexer": "ipython3",
   "version": "3.11.4"
  }
 },
 "nbformat": 4,
 "nbformat_minor": 5
}
